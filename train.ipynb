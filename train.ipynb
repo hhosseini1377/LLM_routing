{
 "cells": [
  {
   "cell_type": "code",
   "execution_count": null,
   "id": "55bcbfe4",
   "metadata": {},
   "outputs": [
    {
     "name": "stdout",
     "output_type": "stream",
     "text": [
      "1\n"
     ]
    }
   ],
   "source": [
    "import time\n",
    "i = 1\n",
    "while True:\n",
    "    time.sleep(5)\n",
    "    print(i)\n",
    "    i += 1\n",
    "\n"
   ]
  },
  {
   "cell_type": "code",
   "execution_count": 12,
   "id": "0f6e428b-28e8-4035-878d-4ea634df4007",
   "metadata": {},
   "outputs": [
    {
     "name": "stdout",
     "output_type": "stream",
     "text": [
      "Traceback (most recent call last):\n",
      "  File \"/data/gpfs/projects/punim2662/LLM_routing/LLM_routing/main.py\", line 1, in <module>\n",
      "    from dataset.model_loader import ModelLoader\n",
      "  File \"/data/gpfs/projects/punim2662/LLM_routing/LLM_routing/dataset/model_loader.py\", line 1, in <module>\n",
      "    from transformers import AutoModelForCausalLM, AutoTokenizer\n",
      "ModuleNotFoundError: No module named 'transformers'\n"
     ]
    }
   ],
   "source": [
    "!python3 main.py --model_name distilbert  --num_epochs 200 --batch_size 32 --context_window 512 --data_size None --strategy cls\n"
   ]
  },
  {
   "cell_type": "code",
   "execution_count": null,
   "id": "ad038fac-b735-4437-9abb-310c06d35556",
   "metadata": {},
   "outputs": [],
   "source": []
  }
 ],
 "metadata": {
  "kernelspec": {
   "display_name": "Python 3 (ipykernel)",
   "language": "python",
   "name": "python3"
  },
  "language_info": {
   "codemirror_mode": {
    "name": "ipython",
    "version": 3
   },
   "file_extension": ".py",
   "mimetype": "text/x-python",
   "name": "python",
   "nbconvert_exporter": "python",
   "pygments_lexer": "ipython3",
   "version": "3.9.21"
  }
 },
 "nbformat": 4,
 "nbformat_minor": 5
}
